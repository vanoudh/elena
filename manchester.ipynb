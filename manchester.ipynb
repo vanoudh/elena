{
 "cells": [
  {
   "cell_type": "code",
   "execution_count": 99,
   "metadata": {},
   "outputs": [],
   "source": [
    "import pandas as pd\n",
    "pd.options.display.max_rows = 20\n",
    "\n",
    "from utils import print_summary\n",
    "\n",
    "TEMPLATE = 'http://data.insideairbnb.com/united-kingdom/england/greater-manchester/{}/data/{}.csv.gz'\n",
    "\n",
    "MONTHS = '2020-02-18 2020-01-13 2019-12-11 2019-11-16 2019-10-16 2019-09-20 2019-08-17 2019-07-12 2019-06-08 2019-05-14' \\\n",
    "    ' 2019-04-13 2019-03-08 2019-02-07 2019-01-14 2018-12-10 2018-11-09 2018-10-18 2018-09-12 2018-08-14 2018-07-17'.split()\n",
    "\n",
    "\n",
    "def read_listings(date):\n",
    "    df = pd.read_csv(TEMPLATE.format(date, 'listings'), \n",
    "                     usecols='id last_scraped number_of_reviews room_type host_listings_count availability_365 neighbourhood_cleansed zipcode'.split(),\n",
    "                     parse_dates=['last_scraped'])\n",
    "    return df\n",
    "\n",
    "\n",
    "def read_calendar(date):\n",
    "    df = pd.read_csv(TEMPLATE.format(date, 'calendar'), \n",
    "                     parse_dates=['date'],\n",
    "                     usecols='date listing_id price'.split()\n",
    "                    )\n",
    "    df['last_scraped'] = pd.Timestamp(date)\n",
    "    df['price'] = df.price.apply(lambda s:float(str(s).replace('$', '').replace(',', '')))\n",
    "    df['month'] = df.date.apply(lambda d: pd.Timestamp(d.year, d.month, 1, 0))\n",
    "    return df.groupby('last_scraped listing_id month'.split())['price'].mean().reset_index()\n",
    "\n",
    "READER = {\n",
    "    'listings': read_listings,\n",
    "    'calendar': read_calendar\n",
    "}\n",
    "\n",
    "def get_df(filename):\n",
    "    df_list = []\n",
    "    reader = READER[filename]\n",
    "    for date in MONTHS:\n",
    "        df_list.append(reader(date))\n",
    "    return pd.concat(df_list, axis=0).reset_index(drop=True)"
   ]
  },
  {
   "cell_type": "code",
   "execution_count": 82,
   "metadata": {},
   "outputs": [
    {
     "name": "stdout",
     "output_type": "stream",
     "text": [
      "82931 lines - 8 columns\n",
      "                column |    nulls |   unique | type           | mode/med\n",
      "--------------------------------------------------------------------------------\n",
      "                    id |      0   |   9214   |          int64 | 26451916 (20)\n",
      "          last_scraped |      0   |     23   | datetime64[ns] | 2020-02-18 00:00\n",
      "   host_listings_count |     73   |    173   |        float64 | 2.0\n",
      "neighbourhood_cleansed |      0   |     41   |         object | Salford District\n",
      "               zipcode |   1739   |   4102   |         object | M1 (834)\n",
      "             room_type |      0   |      4   |         object | Private room (41\n",
      "      availability_365 |      0   |    366   |          int64 | 0 (15332)\n",
      "     number_of_reviews |      0   |    447   |          int64 | 0 (15325)\n"
     ]
    }
   ],
   "source": [
    "listings = get_df('listings')\n",
    "print_summary(listings)"
   ]
  },
  {
   "cell_type": "code",
   "execution_count": 102,
   "metadata": {},
   "outputs": [
    {
     "name": "stdout",
     "output_type": "stream",
     "text": [
      "1078089 lines - 4 columns\n",
      "      column |    nulls |   unique | type           | mode/med\n",
      "--------------------------------------------------------------------------------\n",
      "last_scraped |      0   |     20   | datetime64[ns] | 2020-02-18 00:00:00 (65546\n",
      "  listing_id |      0   |   9214   |          int64 | 7231617 (260)\n",
      "       month |      0   |     32   | datetime64[ns] | 2020-02-01 00:00:00 (58112\n",
      "       price | 133326   |  40709   |        float64 | 55.0\n"
     ]
    }
   ],
   "source": [
    "calendar = get_df('calendar')\n",
    "print_summary(calendar)"
   ]
  },
  {
   "cell_type": "code",
   "execution_count": null,
   "metadata": {},
   "outputs": [],
   "source": []
  }
 ],
 "metadata": {
  "kernelspec": {
   "display_name": "conda_python3",
   "language": "python",
   "name": "conda_python3"
  },
  "language_info": {
   "codemirror_mode": {
    "name": "ipython",
    "version": 3
   },
   "file_extension": ".py",
   "mimetype": "text/x-python",
   "name": "python",
   "nbconvert_exporter": "python",
   "pygments_lexer": "ipython3",
   "version": "3.6.5"
  }
 },
 "nbformat": 4,
 "nbformat_minor": 4
}
